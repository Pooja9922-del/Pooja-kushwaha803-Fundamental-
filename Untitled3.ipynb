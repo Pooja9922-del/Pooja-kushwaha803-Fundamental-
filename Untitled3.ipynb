{
  "nbformat": 4,
  "nbformat_minor": 0,
  "metadata": {
    "colab": {
      "provenance": [],
      "authorship_tag": "ABX9TyNFsu0PXDybZGRGg4HClsuT",
      "include_colab_link": true
    },
    "kernelspec": {
      "name": "python3",
      "display_name": "Python 3"
    },
    "language_info": {
      "name": "python"
    }
  },
  "cells": [
    {
      "cell_type": "markdown",
      "metadata": {
        "id": "view-in-github",
        "colab_type": "text"
      },
      "source": [
        "<a href=\"https://colab.research.google.com/github/Pooja9922-del/Pooja-kushwaha803-Fundamental-/blob/main/Untitled3.ipynb\" target=\"_parent\"><img src=\"https://colab.research.google.com/assets/colab-badge.svg\" alt=\"Open In Colab\"/></a>"
      ]
    },
    {
      "cell_type": "markdown",
      "source": [
        "**Hill and Valley Prediction with Logistic Regression**"
      ],
      "metadata": {
        "id": "1xNLY33A1nwl"
      }
    },
    {
      "cell_type": "markdown",
      "source": [
        "# **Get Understanding about Data set**"
      ],
      "metadata": {
        "id": "hTdQzGWW2Lec"
      }
    },
    {
      "cell_type": "markdown",
      "source": [
        "Each records represent 100 points on two-dimensional graph. when plotted order(from 1through 100)as the Y coordinate,the points will create either a Hill (a\"bump\"in the terrain) or a valley(a \"dip in the terrain).see the original source for some example pf these graphs.\n",
        "**1-100**;Labeled \"V##\" Floating points values (numeric),the X-values\n",
        "**101**; Labeled \"class\",Binary {0,1} representing {valley,hill}"
      ],
      "metadata": {
        "id": "m9zXLWRI2pLC"
      }
    },
    {
      "cell_type": "markdown",
      "source": [
        "# **Import Library**"
      ],
      "metadata": {
        "id": "GVZu4Bl5-O9S"
      }
    },
    {
      "cell_type": "code",
      "source": [
        "[1] # import pandas as pd"
      ],
      "metadata": {
        "id": "nwyp453KAH2e",
        "colab": {
          "base_uri": "https://localhost:8080/"
        },
        "outputId": "e58927ae-b3af-4ae9-918b-277096348f87"
      },
      "execution_count": null,
      "outputs": [
        {
          "output_type": "execute_result",
          "data": {
            "text/plain": [
              "[1]"
            ]
          },
          "metadata": {},
          "execution_count": 1
        }
      ]
    },
    {
      "cell_type": "code",
      "source": [
        "[2] # import numpy as np"
      ],
      "metadata": {
        "id": "FGZ1jbX5ATYS",
        "colab": {
          "base_uri": "https://localhost:8080/"
        },
        "outputId": "800e3a00-a6cb-4ae8-9bed-c05bd2194382"
      },
      "execution_count": null,
      "outputs": [
        {
          "output_type": "execute_result",
          "data": {
            "text/plain": [
              "[2]"
            ]
          },
          "metadata": {},
          "execution_count": 2
        }
      ]
    },
    {
      "cell_type": "markdown",
      "source": [
        "# **Import CSV as DataFrame**"
      ],
      "metadata": {
        "id": "bX3d2HCjA-oi"
      }
    },
    {
      "cell_type": "markdown",
      "source": [
        "**Use URL of file directly**"
      ],
      "metadata": {
        "id": "DOQCaZygBq5i"
      }
    },
    {
      "cell_type": "code",
      "source": [
        "[3] #df = pd.read_csv(r'https://github.com/YBI-Foundation/Dataset/raw/main/Hill%20Valley%20Dataset.csv0')"
      ],
      "metadata": {
        "colab": {
          "base_uri": "https://localhost:8080/"
        },
        "id": "z3_TnBHjVcIU",
        "outputId": "0281fe70-7545-4c76-8e11-e9d0c2f9982b"
      },
      "execution_count": null,
      "outputs": [
        {
          "output_type": "execute_result",
          "data": {
            "text/plain": [
              "[3]"
            ]
          },
          "metadata": {},
          "execution_count": 3
        }
      ]
    },
    {
      "cell_type": "markdown",
      "source": [
        "**or use local file path in Jupyter Notebook**"
      ],
      "metadata": {
        "id": "kYbqgo2VWLz1"
      }
    },
    {
      "cell_type": "code",
      "source": [
        "[4] # df = pd.read_csv(r'C:\\Users\\YBI Foundation\\Desktop\\Hill Valley Dataset.csv')"
      ],
      "metadata": {
        "colab": {
          "base_uri": "https://localhost:8080/"
        },
        "id": "bZOybHBxWhiy",
        "outputId": "2b4af7b7-ed46-47b4-921f-baf711acf080"
      },
      "execution_count": null,
      "outputs": [
        {
          "output_type": "execute_result",
          "data": {
            "text/plain": [
              "[4]"
            ]
          },
          "metadata": {},
          "execution_count": 4
        }
      ]
    },
    {
      "cell_type": "markdown",
      "source": [
        "**or use file path after uploading file in Google Colab Notebook**"
      ],
      "metadata": {
        "id": "1JW0geotXNw-"
      }
    },
    {
      "cell_type": "code",
      "source": [
        "[5] # df = pd.read_csv(r'/content/Hill Valley Dataset.csv')"
      ],
      "metadata": {
        "colab": {
          "base_uri": "https://localhost:8080/"
        },
        "id": "fdKwTUOEX0_-",
        "outputId": "b33409aa-a8e2-492f-9ab5-9932e70e98e3"
      },
      "execution_count": null,
      "outputs": [
        {
          "output_type": "execute_result",
          "data": {
            "text/plain": [
              "[5]"
            ]
          },
          "metadata": {},
          "execution_count": 5
        }
      ]
    },
    {
      "cell_type": "markdown",
      "source": [
        "# **Get the First Five Rows of Dataframe**"
      ],
      "metadata": {
        "id": "Xr0-GkYvYju2"
      }
    },
    {
      "cell_type": "code",
      "source": [
        "[6] # df. head()"
      ],
      "metadata": {
        "colab": {
          "base_uri": "https://localhost:8080/"
        },
        "id": "YMapquWiY3Rh",
        "outputId": "a5edb14f-8384-4d34-9e69-a231cbc35c6b"
      },
      "execution_count": null,
      "outputs": [
        {
          "output_type": "execute_result",
          "data": {
            "text/plain": [
              "[6]"
            ]
          },
          "metadata": {},
          "execution_count": 6
        }
      ]
    },
    {
      "cell_type": "markdown",
      "source": [
        "# **Get Information of DataFrame**"
      ],
      "metadata": {
        "id": "IvEyTuS9kOMt"
      }
    },
    {
      "cell_type": "code",
      "source": [
        "[7] # df.info()"
      ],
      "metadata": {
        "colab": {
          "base_uri": "https://localhost:8080/"
        },
        "id": "TWSfHvAs1EAU",
        "outputId": "560dccf1-2d3e-422e-d556-d7db000e927c"
      },
      "execution_count": null,
      "outputs": [
        {
          "output_type": "execute_result",
          "data": {
            "text/plain": [
              "[7]"
            ]
          },
          "metadata": {},
          "execution_count": 1
        }
      ]
    },
    {
      "cell_type": "markdown",
      "source": [
        "< class \"pandas,core,frame,DataFrame\">\n",
        "Range Index: 1212 entries,0 to 1211\n",
        "Columns: 101 entries, V1 to Class\n",
        "dtypes: float64(100), int64(1)\n",
        "memory usage: 956.5 KB\n"
      ],
      "metadata": {
        "id": "MmeQSihe1Z4x"
      }
    },
    {
      "cell_type": "code",
      "source": [
        "[8] # df.columns"
      ],
      "metadata": {
        "colab": {
          "base_uri": "https://localhost:8080/"
        },
        "id": "5P1LXUKq7OQg",
        "outputId": "b04577b0-6141-4cea-d5af-5fea18b9a957"
      },
      "execution_count": null,
      "outputs": [
        {
          "output_type": "execute_result",
          "data": {
            "text/plain": [
              "[8]"
            ]
          },
          "metadata": {},
          "execution_count": 2
        }
      ]
    },
    {
      "cell_type": "markdown",
      "source": [
        "Index (['V1', 'V2', 'V3', 'V4', 'V5', 'V6','V7', 'V8', 'V9', 'V10', 'V11',...\n",
        "'V92', 'V93', 'V94', 'V95', 'V96', 'V97', 'V98', 'V99', 'V100', '(Class,),\n",
        "dtype'object', length=101)"
      ],
      "metadata": {
        "id": "aPQsbYEj7zq0"
      }
    },
    {
      "cell_type": "markdown",
      "source": [
        "**All columns name not printed**"
      ],
      "metadata": {
        "id": "yQ9tClB_AImc"
      }
    },
    {
      "cell_type": "code",
      "source": [
        "[9] # print(df.columns.tolist())"
      ],
      "metadata": {
        "colab": {
          "base_uri": "https://localhost:8080/"
        },
        "id": "Kia2U70zJzbN",
        "outputId": "b134d2d3-d995-4e8f-f46c-a6df4f8a42e0"
      },
      "execution_count": null,
      "outputs": [
        {
          "output_type": "execute_result",
          "data": {
            "text/plain": [
              "[9]"
            ]
          },
          "metadata": {},
          "execution_count": 3
        }
      ]
    },
    {
      "cell_type": "markdown",
      "source": [
        "['V1', 'V2', 'V3', 'V4', 'V5', 'V6', 'V7', 'V8', 'V9', 'V10', 'V11', 'V12', 'V13', 'V14', 'V15', 'V16', 'V17', 'V18', 'V19', 'V20', 'V21' 'V22',"
      ],
      "metadata": {
        "id": "iMd8QmVHNVqS"
      }
    },
    {
      "cell_type": "markdown",
      "source": [
        "# **Get Shape of DataFrame**"
      ],
      "metadata": {
        "id": "WRSIWYxYO4nk"
      }
    },
    {
      "cell_type": "code",
      "source": [
        "[10]# df.shape"
      ],
      "metadata": {
        "colab": {
          "base_uri": "https://localhost:8080/"
        },
        "id": "4RUiUm0QPayV",
        "outputId": "d866c731-2b5b-4ebe-a11a-6b2e499340df"
      },
      "execution_count": null,
      "outputs": [
        {
          "output_type": "execute_result",
          "data": {
            "text/plain": [
              "[10]"
            ]
          },
          "metadata": {},
          "execution_count": 5
        }
      ]
    },
    {
      "cell_type": "markdown",
      "source": [
        "(1212 , 101)"
      ],
      "metadata": {
        "id": "BWn7-jIIPxtS"
      }
    },
    {
      "cell_type": "markdown",
      "source": [
        "# **Get Unique Values (Class or Label) in y Variable**"
      ],
      "metadata": {
        "id": "J5oAXsKuP8Cy"
      }
    },
    {
      "cell_type": "code",
      "source": [
        "[11] #df['Class'],value_counts()"
      ],
      "metadata": {
        "colab": {
          "base_uri": "https://localhost:8080/"
        },
        "id": "3bss1kvEQhRU",
        "outputId": "d66fa8f6-1f58-46c5-ec99-87c072b29a0c"
      },
      "execution_count": null,
      "outputs": [
        {
          "output_type": "execute_result",
          "data": {
            "text/plain": [
              "[11]"
            ]
          },
          "metadata": {},
          "execution_count": 4
        }
      ]
    },
    {
      "cell_type": "markdown",
      "source": [
        "\n",
        "\n",
        "1  606\n",
        "\n",
        "0  606\n",
        "\n",
        "Name: Class, dtype: int64\n",
        "\n"
      ],
      "metadata": {
        "id": "XXAKK9bHRRPr"
      }
    },
    {
      "cell_type": "code",
      "source": [
        "[12] # df.groupby('Class').mean()"
      ],
      "metadata": {
        "colab": {
          "base_uri": "https://localhost:8080/"
        },
        "id": "p6cbohmSSEo8",
        "outputId": "4ed80928-b849-4e99-d290-0acf1eeae1da"
      },
      "execution_count": null,
      "outputs": [
        {
          "output_type": "execute_result",
          "data": {
            "text/plain": [
              "[12]"
            ]
          },
          "metadata": {},
          "execution_count": 6
        }
      ]
    },
    {
      "cell_type": "markdown",
      "source": [
        "# **Define y (dependent or label or target variable) and X (independent or attribute variable)**"
      ],
      "metadata": {
        "id": "z1LUk-6iTjls"
      }
    },
    {
      "cell_type": "code",
      "source": [
        "[13] # y=df['class']"
      ],
      "metadata": {
        "colab": {
          "base_uri": "https://localhost:8080/"
        },
        "id": "8prZ2B2jUIM8",
        "outputId": "b2e8f347-4129-4df9-972a-fb83d9dd45c4"
      },
      "execution_count": null,
      "outputs": [
        {
          "output_type": "execute_result",
          "data": {
            "text/plain": [
              "[13]"
            ]
          },
          "metadata": {},
          "execution_count": 7
        }
      ]
    },
    {
      "cell_type": "code",
      "source": [
        "[14] # y,shape"
      ],
      "metadata": {
        "colab": {
          "base_uri": "https://localhost:8080/"
        },
        "id": "UCTwzEnzVAyT",
        "outputId": "0d4de0af-de19-479d-9ad3-ffeeff21bbbf"
      },
      "execution_count": null,
      "outputs": [
        {
          "output_type": "execute_result",
          "data": {
            "text/plain": [
              "[14]"
            ]
          },
          "metadata": {},
          "execution_count": 8
        }
      ]
    },
    {
      "cell_type": "markdown",
      "source": [
        "      (1212,)"
      ],
      "metadata": {
        "id": "T2J9TKC2VQO5"
      }
    },
    {
      "cell_type": "code",
      "source": [
        "[15] # y"
      ],
      "metadata": {
        "id": "S_DW-MipVk1Z"
      },
      "execution_count": null,
      "outputs": []
    },
    {
      "cell_type": "markdown",
      "source": [
        "         0         0\n",
        "         1         1\n",
        "         2         1\n",
        "         3         0\n",
        "         4         0\n",
        "                  ..\n",
        "         1207      1\n",
        "         1208      0\n",
        "         1209      1\n",
        "         1210      1\n",
        "         1211      0\n",
        "         Name: class, Length: 1212, dtype: int64\n"
      ],
      "metadata": {
        "id": "g6JzjSuNW7Z-"
      }
    },
    {
      "cell_type": "code",
      "source": [
        "[16]# X = df[['V1', 'V2', 'V3', 'V4', 'V5', 'V6', 'V7', 'V8', 'V9', 'V10', 'V11', 'V12', 'V13', 'V14', 'V15', 'V16', 'V17', 'V18', 'V19', 'V20', 'V21','V22', ]]"
      ],
      "metadata": {
        "colab": {
          "base_uri": "https://localhost:8080/"
        },
        "id": "cPsHNzLtYLIn",
        "outputId": "818ee88d-f6b0-4730-c503-fbd8ecd3ad4c"
      },
      "execution_count": null,
      "outputs": [
        {
          "output_type": "execute_result",
          "data": {
            "text/plain": [
              "[16]"
            ]
          },
          "metadata": {},
          "execution_count": 9
        }
      ]
    },
    {
      "cell_type": "markdown",
      "source": [
        "or use drop function to define X"
      ],
      "metadata": {
        "id": "oyJbSQ3wZqOb"
      }
    },
    {
      "cell_type": "code",
      "source": [
        "[17] # X = df.drop('class', axis=1)"
      ],
      "metadata": {
        "colab": {
          "base_uri": "https://localhost:8080/"
        },
        "id": "21NyRs8LaEyn",
        "outputId": "df354555-5cca-4744-d836-c2dc765430b7"
      },
      "execution_count": null,
      "outputs": [
        {
          "output_type": "execute_result",
          "data": {
            "text/plain": [
              "[17]"
            ]
          },
          "metadata": {},
          "execution_count": 10
        }
      ]
    },
    {
      "cell_type": "code",
      "source": [
        "[18] # x.shape"
      ],
      "metadata": {
        "colab": {
          "base_uri": "https://localhost:8080/"
        },
        "id": "JHlRoAwrawio",
        "outputId": "0fb97270-3741-4383-b743-aaaf71379059"
      },
      "execution_count": null,
      "outputs": [
        {
          "output_type": "execute_result",
          "data": {
            "text/plain": [
              "[18]"
            ]
          },
          "metadata": {},
          "execution_count": 11
        }
      ]
    },
    {
      "cell_type": "markdown",
      "source": [
        "  (1212, 100)"
      ],
      "metadata": {
        "id": "ZQr-P33KbbmF"
      }
    },
    {
      "cell_type": "code",
      "source": [
        "[19] # x"
      ],
      "metadata": {
        "colab": {
          "base_uri": "https://localhost:8080/"
        },
        "id": "8vdP2oE1cAG7",
        "outputId": "e15890c4-9255-41d0-84d0-722b139669a0"
      },
      "execution_count": null,
      "outputs": [
        {
          "output_type": "execute_result",
          "data": {
            "text/plain": [
              "[19]"
            ]
          },
          "metadata": {},
          "execution_count": 13
        }
      ]
    },
    {
      "cell_type": "markdown",
      "source": [
        "# **Get plot of First Two Rows**"
      ],
      "metadata": {
        "id": "_7qE6JrIcceT"
      }
    },
    {
      "cell_type": "code",
      "source": [
        "[20] # import matplotib.as plt"
      ],
      "metadata": {
        "colab": {
          "base_uri": "https://localhost:8080/"
        },
        "id": "uQdzHIsuLBG3",
        "outputId": "569c0cc6-fb64-4efc-e123-11ee0f3b56f0"
      },
      "execution_count": null,
      "outputs": [
        {
          "output_type": "execute_result",
          "data": {
            "text/plain": [
              "[20]"
            ]
          },
          "metadata": {},
          "execution_count": 1
        }
      ]
    },
    {
      "cell_type": "code",
      "source": [
        "[21] # plt.plot{X.iloc[0,:])\n",
        "     # plt.title{'valley');\n",
        "\n"
      ],
      "metadata": {
        "id": "XgCW0FsOLuZW",
        "colab": {
          "base_uri": "https://localhost:8080/"
        },
        "outputId": "3201f415-5452-454c-a7c0-dee77394f067"
      },
      "execution_count": null,
      "outputs": [
        {
          "output_type": "execute_result",
          "data": {
            "text/plain": [
              "[21]"
            ]
          },
          "metadata": {},
          "execution_count": 2
        }
      ]
    },
    {
      "cell_type": "code",
      "source": [
        "[22]# plt.plot{X.iloc[1,:])\n",
        "    # plt.title('Hill');"
      ],
      "metadata": {
        "id": "wWbW8ZqQWTa2"
      },
      "execution_count": null,
      "outputs": []
    },
    {
      "cell_type": "markdown",
      "source": [
        "# **Get X Vriables Standardized**"
      ],
      "metadata": {
        "id": "0jHabvKUXREd"
      }
    },
    {
      "cell_type": "markdown",
      "source": [
        "standardization of datasets is a common requirement for many machine learning estimators implemented in scikit-learn, they might badly if the individual features do not more or less look like standard normally disturbed data: Gaussian with zero mean and unit variance.\n"
      ],
      "metadata": {
        "id": "dzr8W1_OXb-R"
      }
    },
    {
      "cell_type": "markdown",
      "source": [
        "Next approach is go for MinMax Scaler"
      ],
      "metadata": {
        "id": "uQs6pM1HcI6f"
      }
    },
    {
      "cell_type": "code",
      "source": [
        "[23]# from sklearn.preprocessing import StandardScaler"
      ],
      "metadata": {
        "colab": {
          "base_uri": "https://localhost:8080/"
        },
        "id": "ot3vOz2WeE2r",
        "outputId": "a10b7d58-1fd2-477f-f099-00922b63cc85"
      },
      "execution_count": null,
      "outputs": [
        {
          "output_type": "execute_result",
          "data": {
            "text/plain": [
              "[23]"
            ]
          },
          "metadata": {},
          "execution_count": 3
        }
      ]
    },
    {
      "cell_type": "code",
      "source": [
        "[24] # ss= StandardScaler()"
      ],
      "metadata": {
        "colab": {
          "base_uri": "https://localhost:8080/"
        },
        "id": "uaBCcAhwebPw",
        "outputId": "150378c7-c110-4fc7-cefe-124cbdca230a"
      },
      "execution_count": null,
      "outputs": [
        {
          "output_type": "execute_result",
          "data": {
            "text/plain": [
              "[24]"
            ]
          },
          "metadata": {},
          "execution_count": 4
        }
      ]
    },
    {
      "cell_type": "code",
      "source": [
        "[25]# X= ss.fit_transform(X)"
      ],
      "metadata": {
        "colab": {
          "base_uri": "https://localhost:8080/"
        },
        "id": "Wz8dQ6-Zflzd",
        "outputId": "8b16fa1a-3ac8-492b-c5b7-eea0852dde0d"
      },
      "execution_count": null,
      "outputs": [
        {
          "output_type": "execute_result",
          "data": {
            "text/plain": [
              "[25]"
            ]
          },
          "metadata": {},
          "execution_count": 5
        }
      ]
    },
    {
      "cell_type": "code",
      "source": [
        "[26]# X"
      ],
      "metadata": {
        "colab": {
          "base_uri": "https://localhost:8080/"
        },
        "id": "uUHMa52TgMg1",
        "outputId": "d84dc9b7-a9e0-4ba8-a742-37f8d0ed39e3"
      },
      "execution_count": null,
      "outputs": [
        {
          "output_type": "execute_result",
          "data": {
            "text/plain": [
              "[26]"
            ]
          },
          "metadata": {},
          "execution_count": 6
        }
      ]
    },
    {
      "cell_type": "markdown",
      "source": [
        "     array {[[-0.45248681,    -0.45361784,  -.45100881, ...,   -0.45609618,  -0.45545496],\n",
        "     [-0.45455665,  -0.45556372,  -0.45302369, ...,  -0.45821768,  -0.45362255,  -0.45755405],\n",
        "     [3.33983504,  3.24466709,  3.58338069, ...,  3.5427869,  3.27907378,  3.74616847],\n",
        "     ...,\n",
        "     [ 0.111084204,  0.0505953,  0.04437307,  ...,  0.12533312,  0.04456025,  0.06450317],\n",
        "     [-0.45272112,  -045369729,  -045118691,  ...,  -045648861,  -0.45290236,  -045569511],\n",
        "     [0.01782872,  -0.26366986,  0.05196137,  ...,  0.03036056,  0.01087365,  0.03123129]])"
      ],
      "metadata": {
        "id": "oI3mZjvPgWoj"
      }
    },
    {
      "cell_type": "code",
      "source": [
        "[27]# X.shape"
      ],
      "metadata": {
        "colab": {
          "base_uri": "https://localhost:8080/"
        },
        "id": "adiNFvYMp-g8",
        "outputId": "ba2e60cb-5708-479d-9efc-223870f858ec"
      },
      "execution_count": null,
      "outputs": [
        {
          "output_type": "execute_result",
          "data": {
            "text/plain": [
              "[27]"
            ]
          },
          "metadata": {},
          "execution_count": 7
        }
      ]
    },
    {
      "cell_type": "markdown",
      "source": [
        "     (1212, 100)"
      ],
      "metadata": {
        "id": "9Gg1aDsjqVWY"
      }
    },
    {
      "cell_type": "markdown",
      "source": [
        "# **Get Train Test Split**"
      ],
      "metadata": {
        "id": "jRiAJ7iRqhRT"
      }
    },
    {
      "cell_type": "code",
      "source": [
        "[28] # from sklearn.model_selection import train_test_split"
      ],
      "metadata": {
        "colab": {
          "base_uri": "https://localhost:8080/"
        },
        "id": "3tqMygL6qpB2",
        "outputId": "ed76480e-3dc8-4d0a-d03d-7322c44bc70f"
      },
      "execution_count": null,
      "outputs": [
        {
          "output_type": "execute_result",
          "data": {
            "text/plain": [
              "[28]"
            ]
          },
          "metadata": {},
          "execution_count": 8
        }
      ]
    },
    {
      "cell_type": "code",
      "source": [
        "[29]# X_train, X_test, y_train, y_test=train _test_split(x,y,test_size= 0.3,stratify=y, random_state=2529)"
      ],
      "metadata": {
        "colab": {
          "base_uri": "https://localhost:8080/"
        },
        "id": "_2l7nP2drDiP",
        "outputId": "031532f7-d845-4495-ee4e-cc9e2ce5291d"
      },
      "execution_count": null,
      "outputs": [
        {
          "output_type": "execute_result",
          "data": {
            "text/plain": [
              "[29]"
            ]
          },
          "metadata": {},
          "execution_count": 9
        }
      ]
    },
    {
      "cell_type": "code",
      "source": [
        "[30] # X_train.shape, X_test.shape, y_train.shape, y_test.shape"
      ],
      "metadata": {
        "id": "fxj1k7N1rxt3",
        "colab": {
          "base_uri": "https://localhost:8080/"
        },
        "outputId": "16381aa6-bb78-490e-dcef-dbf0fc6c2b39"
      },
      "execution_count": null,
      "outputs": [
        {
          "output_type": "execute_result",
          "data": {
            "text/plain": [
              "[30]"
            ]
          },
          "metadata": {},
          "execution_count": 1
        }
      ]
    },
    {
      "cell_type": "markdown",
      "source": [
        "     ((848, 100), (364, 100), (848,), (3644,))"
      ],
      "metadata": {
        "id": "zspqqS5uXxyz"
      }
    },
    {
      "cell_type": "markdown",
      "source": [
        "# **Get model Train**"
      ],
      "metadata": {
        "id": "T5hEqRHmYRci"
      }
    },
    {
      "cell_type": "code",
      "source": [
        "[31]# From sklearn.linear_model import LogisticRegression"
      ],
      "metadata": {
        "id": "ii6Srb6LYo28"
      },
      "execution_count": null,
      "outputs": []
    },
    {
      "cell_type": "code",
      "source": [
        "[32]# lr = LogisticRegression()"
      ],
      "metadata": {
        "id": "GmmPwwu9ZHYE"
      },
      "execution_count": null,
      "outputs": []
    },
    {
      "cell_type": "code",
      "source": [
        "[33]# lr.fit{X_trsin, y_train)}"
      ],
      "metadata": {
        "id": "NBzhmOS2ZZtB"
      },
      "execution_count": null,
      "outputs": []
    },
    {
      "cell_type": "markdown",
      "source": [
        "LogisticRegression()"
      ],
      "metadata": {
        "id": "CZl94p4EZwh4"
      }
    },
    {
      "cell_type": "markdown",
      "source": [
        "# **Get Model Prediction**"
      ],
      "metadata": {
        "id": "h2rBna0BdDEw"
      }
    },
    {
      "cell_type": "code",
      "source": [
        "[34]# y_pred = lr.predict(X_test)"
      ],
      "metadata": {
        "colab": {
          "base_uri": "https://localhost:8080/"
        },
        "id": "s0VLVFergAOZ",
        "outputId": "f15565a0-28e4-47d4-933f-971880515032"
      },
      "execution_count": null,
      "outputs": [
        {
          "output_type": "execute_result",
          "data": {
            "text/plain": [
              "[34]"
            ]
          },
          "metadata": {},
          "execution_count": 2
        }
      ]
    },
    {
      "cell_type": "code",
      "source": [
        "[35]# y_pred.shape"
      ],
      "metadata": {
        "colab": {
          "base_uri": "https://localhost:8080/"
        },
        "id": "1ySXzyolgkHQ",
        "outputId": "c889f19b-b6f5-4a4a-c7fc-d0562b7b089f"
      },
      "execution_count": null,
      "outputs": [
        {
          "output_type": "execute_result",
          "data": {
            "text/plain": [
              "[35]"
            ]
          },
          "metadata": {},
          "execution_count": 3
        }
      ]
    },
    {
      "cell_type": "markdown",
      "source": [
        "   (364,)"
      ],
      "metadata": {
        "id": "-ZOnuDmLgtYL"
      }
    },
    {
      "cell_type": "code",
      "source": [
        "[36]# y_pred"
      ],
      "metadata": {
        "id": "wbkFE_inhFVQ"
      },
      "execution_count": null,
      "outputs": []
    },
    {
      "cell_type": "markdown",
      "source": [
        " array([0, 0, 0, 0, 0, 0, 0, 0, 0, 0, 0, 0, 0, 0, 0, 1, 0, 0, 0,1, 1,\n",
        " 0, 1, 0, 0, 0, 0, 0, 0, 1, 0, 1, 0, 0, 0, 0, 0, 0, 0, 0, 0, 1, 0,\n",
        " 0, 1, 0, 0, 0, 0, 0, 0, 0, 0, 0, 0, 0, 0, 0, 1, 0, 0, 0, 1, 0, 0,\n",
        " 0, 1, 0, 0, 0, 0, 0, 0, 0, 0, 1, 1, 0, 0, 0, 0, 0, 1, 0, 0, 0, 0,\n",
        " 0, 0, 0, 0, 0, 0, 0, 1, 1, 0, 0, 0, 0, 1, 0, 0, 0, 0, 0, 0, 0, 0,\n",
        " 1, 0, 0, 0, 0, 1, 0, 0, 0, 0, 0, 1, 0, 1, 0, 0, 0, 0, 0, 0, 0, 0\n",
        " 0, 1, 0, 0, 0, 0, 1, 0, 0, 0, 0, 0, 0, 1, 0, 0, 0, 0, 0, 0, 0, 0,\n",
        " 0, 1, 0, 1, 0, 0, 0, 0, 0, 0, 0, 0, 0, 1, 0, 0, 0, 0, 0, 0, 0, 1,\n",
        " 0, 0, 0, 0, 0, 0, 0, 0, 0, 0, 1, 0, 0, 1, 0, 0, 1, 0, 0, 0, 0\n",
        " 0, 0, 0, 0, 0, 1, 1, 0, 0, 0, 0, 0, 0, 0, 1, 0, 1, 0, 0, 0, 1, 1,\n",
        " 0, 0, 0, 1, 0, 1, 0, 0, 0, 0, 1, 0, 1, 1, 1, 0, 0, 1, 0,\n",
        " 0, 1, 0, 0, 0, 0, 0, 0, 0, 1, 0, 1, 0, 1, 0, 0, 0, 0, 1, 0, 1, 0,\n",
        " 0, 0, 0, 0, 0, 0, 0, 0, 0, 0, 0, 1, 0, 0, 0, 0, 0, 0, 0, 0, 0, 0,\n",
        " 0, 0, 1, 0, 0, 0, 1, 0, 1, 0, 1, 1, 1, 0, 0, 0, 1, 0, 1, 0,\n",
        " 1, 0, 0, 0, 0, 1, 1, 0, 0, 0, 0, 0, 0, 1, 0, 1, 0, 1, 1, 1, 0, 0,\n",
        " 0, 0, 0, 1, 0, 1, 0, 0, 0, 0, 0, 0, 0, 0, 1, 0, 0, 0, 1, 0, 0, 0, 0, 1, 0, 0, 0, 0, 0, 0, 1, 0, 1])\n",
        "\n",
        "\n"
      ],
      "metadata": {
        "id": "XVgZ-80ThMfG"
      }
    },
    {
      "cell_type": "markdown",
      "source": [
        "# **Get Probability of Each Predicted Class**"
      ],
      "metadata": {
        "id": "vQ92DyTY3yVb"
      }
    },
    {
      "cell_type": "code",
      "source": [
        "# [37] lr.predict_proba{_test}"
      ],
      "metadata": {
        "id": "_iz9hgXnHN3U"
      },
      "execution_count": null,
      "outputs": []
    },
    {
      "cell_type": "markdown",
      "source": [
        "[0.00939577, 0.9906023],\n",
        "[0.50865027, 0.49134973],\n",
        "[0.4072756,  0.5927244],\n",
        "[0.50863233, 0.49136767]\n",
        "[0.50881989, 0.49118011]\n",
        "[0.50626548, 0.49373452],\n",
        "[0.48327857, 0.51672143],\n",
        "[0.4989238,  0.5010762],\n",
        "[0.50862414, 0.49137586],\n",
        "[0.5120782,  0.4879218],\n",
        "[0.87769411, 0.12230589],\n",
        "[0.50885619, 0.49114381],\n",
        "[0.5077544,  0.4922456],\n",
        "[0.50885086, 0.49114381],\n",
        "[0.45953643, 0.54046357],\n",
        "[0.50860026, 0.49139974],\n",
        "[0.49737446, 0.50262554],\n",
        "[0.50902555, 0.49097445],\n",
        "[0.03768218, 0.96231282],\n",
        "[0.46144805, 0.53855195],\n",
        "[0.51791137, 0.48208863],\n",
        "[0.50929627, 0.49070373],\n",
        "[0.7782442,  0.2217558],\n",
        "[0.50878249, 0.46555196],\n",
        "[0.68401995, 0.31598005],\n",
        "[0.50837602, 0.49162398],\n",
        "[0.49955889, 0.50044111],\n",
        "[0.66733462, 0.33266538],\n",
        "[0.51287011, 0.48993163],\n",
        "[0.4949386,  0.5050614],\n",
        "[0.50415411, 0.49124579],\n",
        "[0.50859966, 0.49140034],\n",
        "[0.517463,   0.4828537],\n",
        "[0.49828537, 0.50171463],\n",
        "[0.5086824,  0.4913176],\n",
        "[0.58878492, 0.41121508],\n",
        "[0.50578143, 0.49421857],\n",
        "[0.50864401, 0.49135599],\n",
        "[0.78691967, 0.21308033],\n",
        "[0.50865311, 0.49134689],\n",
        "[0.50857367, 0.49142633],\n",
        "[0.48168716, 0.49142633],\n",
        "[0.50838589, 0.49161411],\n",
        "[0.05333436, 0.94666584]])\n",
        "\n",
        "\n"
      ],
      "metadata": {
        "id": "Q6GUxhMB4Xcq"
      }
    },
    {
      "cell_type": "markdown",
      "source": [
        "# **Get Model Evaluation**"
      ],
      "metadata": {
        "id": "q8lcaY3yHz0l"
      }
    },
    {
      "cell_type": "code",
      "source": [
        "[38] # from sklearn.metrics import confusion_matrix, classification_report"
      ],
      "metadata": {
        "colab": {
          "base_uri": "https://localhost:8080/"
        },
        "id": "KvsMSekKIamd",
        "outputId": "dc9ae471-92a3-4e0c-ddba-7030b882b316"
      },
      "execution_count": null,
      "outputs": [
        {
          "output_type": "execute_result",
          "data": {
            "text/plain": [
              "[38]"
            ]
          },
          "metadata": {},
          "execution_count": 2
        }
      ]
    },
    {
      "cell_type": "code",
      "source": [
        "[39] # print{confusion_matrix(y_test, y_pred)}"
      ],
      "metadata": {
        "colab": {
          "base_uri": "https://localhost:8080/"
        },
        "id": "aV8y3rZEJ5MJ",
        "outputId": "8ee5a705-117b-4540-bdab-7e353c474580"
      },
      "execution_count": null,
      "outputs": [
        {
          "output_type": "execute_result",
          "data": {
            "text/plain": [
              "[39]"
            ]
          },
          "metadata": {},
          "execution_count": 6
        }
      ]
    },
    {
      "cell_type": "markdown",
      "source": [
        "    [[181   1]\n",
        "       [106   76]]"
      ],
      "metadata": {
        "id": "0op3YlrHLKSh"
      }
    },
    {
      "cell_type": "code",
      "source": [
        "[40] # print{classification_report(y_test,y_pred}}"
      ],
      "metadata": {
        "colab": {
          "base_uri": "https://localhost:8080/"
        },
        "id": "KgO1r595LVB4",
        "outputId": "c14640a2-6ce3-4fd1-b457-8c6321a9b2b3"
      },
      "execution_count": null,
      "outputs": [
        {
          "output_type": "execute_result",
          "data": {
            "text/plain": [
              "[40]"
            ]
          },
          "metadata": {},
          "execution_count": 7
        }
      ]
    },
    {
      "cell_type": "markdown",
      "source": [
        "                precision     recall     f1-score      support\n",
        "                "
      ],
      "metadata": {
        "id": "I67IocT6MbLw"
      }
    },
    {
      "cell_type": "markdown",
      "source": [
        "      \n",
        "\n",
        "                  0        0.63      0.99      0.77     182\n",
        "                  1        0.99      0.42      0.59     182\n",
        "            accuracy                           0.71     364\n",
        "           macro avg       0.81      0.71      0.68     364\n",
        "         weighted avg      0.81      0.71      0.68     364   \n",
        "\n"
      ],
      "metadata": {
        "id": "PbF21z3ETO7h"
      }
    },
    {
      "cell_type": "markdown",
      "source": [
        "## **Get future predictions**"
      ],
      "metadata": {
        "id": "CkBPegU1Pbrp"
      }
    },
    {
      "cell_type": "markdown",
      "source": [
        "**Lets select a random sample from dataset as new value **\n",
        "\n",
        "  steps to follow\n",
        "     \n",
        "\n",
        "1.   Extract a random row using sample function\n",
        "2.   Separate X and y\n",
        "3.   Standardize X\n",
        "4.   predict\n",
        "\n"
      ],
      "metadata": {
        "id": "vkc8bK0xTE2T"
      }
    },
    {
      "cell_type": "code",
      "source": [
        "[41]# X_new = df,sample(1)"
      ],
      "metadata": {
        "colab": {
          "base_uri": "https://localhost:8080/"
        },
        "id": "Do5bjcUhUdHT",
        "outputId": "53159fe8-497c-4998-c907-e8d21cd46a5e"
      },
      "execution_count": null,
      "outputs": [
        {
          "output_type": "execute_result",
          "data": {
            "text/plain": [
              "[41]"
            ]
          },
          "metadata": {},
          "execution_count": 8
        }
      ]
    },
    {
      "cell_type": "code",
      "source": [
        "[42]# x_new"
      ],
      "metadata": {
        "colab": {
          "base_uri": "https://localhost:8080/"
        },
        "id": "EVBNlw8SVIye",
        "outputId": "4ec079c8-3752-4e54-b323-ae99647b7521"
      },
      "execution_count": null,
      "outputs": [
        {
          "output_type": "execute_result",
          "data": {
            "text/plain": [
              "[42]"
            ]
          },
          "metadata": {},
          "execution_count": 9
        }
      ]
    },
    {
      "cell_type": "markdown",
      "source": [
        "   **V1**        **V2**       **V3**     **V4**        **V5**       **V6**        **V7**        **V8**       **V9**     **V10**       **V11**      **V12**     **V13**       **V14**      **V15**     **V16**      **V17**     **V18**     **V19**       **V20**      **V21**      **V22**       **V23**\n",
        "\n"
      ],
      "metadata": {
        "id": "P5-VAt5Rkd_a"
      }
    },
    {
      "cell_type": "markdown",
      "source": [
        "**564**  40.0   40.15   39.67   41.5   48.75    41.03  44.63   46.12   43.71  46.13    47.96  47.48   42.47   42.45  41.25    39.96  42.24   47.92   47.86  40.97    40.79  41.80\n",
        "  \n",
        "\n",
        "1 rows*101 columns\n",
        "\n"
      ],
      "metadata": {
        "id": "cpOGONr7n9wq"
      }
    },
    {
      "cell_type": "code",
      "source": [
        "[43]# X_new.shape"
      ],
      "metadata": {
        "colab": {
          "base_uri": "https://localhost:8080/"
        },
        "id": "0sCzC045rD_t",
        "outputId": "d32a10ea-af71-4de9-c3e5-0dbef21f9bd1"
      },
      "execution_count": null,
      "outputs": [
        {
          "output_type": "execute_result",
          "data": {
            "text/plain": [
              "[43]"
            ]
          },
          "metadata": {},
          "execution_count": 10
        }
      ]
    },
    {
      "cell_type": "markdown",
      "source": [
        "        (1,  101)"
      ],
      "metadata": {
        "id": "ZPuI7OjDrlmQ"
      }
    },
    {
      "cell_type": "code",
      "source": [
        "[44] # X_new = X_new.drop('class',axis = 1)"
      ],
      "metadata": {
        "colab": {
          "base_uri": "https://localhost:8080/"
        },
        "id": "l7dpfch2sCy2",
        "outputId": "0ea08262-f9f8-415f-e0b1-1d718bc89694"
      },
      "execution_count": null,
      "outputs": [
        {
          "output_type": "execute_result",
          "data": {
            "text/plain": [
              "[44]"
            ]
          },
          "metadata": {},
          "execution_count": 11
        }
      ]
    },
    {
      "cell_type": "code",
      "source": [
        "[45] # X_new"
      ],
      "metadata": {
        "colab": {
          "base_uri": "https://localhost:8080/"
        },
        "id": "a8Y7XcyKtfyK",
        "outputId": "6bdb709a-2b2c-43bb-9081-1acf31b559f1"
      },
      "execution_count": null,
      "outputs": [
        {
          "output_type": "execute_result",
          "data": {
            "text/plain": [
              "[45]"
            ]
          },
          "metadata": {},
          "execution_count": 12
        }
      ]
    },
    {
      "cell_type": "markdown",
      "source": [
        "   **V1**         **V2**        **V3**      **V4**         **V5**        **V6**         **V7**         **V8**         **V9**      **V10**         **V11**       **V12**      **V13**        **V14**       **V15**      **V16**       **V17**      **V18**      **V19**         **V20**       **V21**       **V22**        **V23**\n",
        "\n"
      ],
      "metadata": {
        "id": "cxotRgvavCHu"
      }
    },
    {
      "cell_type": "markdown",
      "source": [
        "**564**  40.0   40.15   39.67   41.5   48.75    41.03  44.63   46.12   43.71  46.13    47.96  47.48   42.47   42.45  41.25    39.96  42.24   47.92   47.86  40.97    40.79  41.80\n",
        "  \n",
        "\n",
        "1 rows*101 columns\n",
        "\n"
      ],
      "metadata": {
        "id": "HF1GYn46vsNz"
      }
    },
    {
      "cell_type": "code",
      "source": [
        "[46]# X_new.shape"
      ],
      "metadata": {
        "colab": {
          "base_uri": "https://localhost:8080/"
        },
        "id": "Vj4LkmRRvz2a",
        "outputId": "c5ed3219-4f7e-4e56-9c2e-7b96a33becb2"
      },
      "execution_count": null,
      "outputs": [
        {
          "output_type": "execute_result",
          "data": {
            "text/plain": [
              "[46]"
            ]
          },
          "metadata": {},
          "execution_count": 13
        }
      ]
    },
    {
      "cell_type": "markdown",
      "source": [
        "         (1, 100)"
      ],
      "metadata": {
        "id": "1oviV_3Dv-f6"
      }
    },
    {
      "cell_type": "code",
      "source": [
        "[47]# X_new =ss.fit_transform(X_new)"
      ],
      "metadata": {
        "colab": {
          "base_uri": "https://localhost:8080/"
        },
        "id": "fUdzYCjHwMki",
        "outputId": "7eee4d1b-2f67-4efe-dec4-3e97a3fef844"
      },
      "execution_count": null,
      "outputs": [
        {
          "output_type": "execute_result",
          "data": {
            "text/plain": [
              "[47]"
            ]
          },
          "metadata": {},
          "execution_count": 14
        }
      ]
    },
    {
      "cell_type": "code",
      "source": [
        "[48]# y_pred_new = lr.predict(X_new)"
      ],
      "metadata": {
        "colab": {
          "base_uri": "https://localhost:8080/"
        },
        "id": "WBcrHqJMwr6O",
        "outputId": "46da38be-2d05-45b5-e00c-861b17e9e9c3"
      },
      "execution_count": null,
      "outputs": [
        {
          "output_type": "execute_result",
          "data": {
            "text/plain": [
              "[48]"
            ]
          },
          "metadata": {},
          "execution_count": 15
        }
      ]
    },
    {
      "cell_type": "code",
      "source": [
        "[49]# y_pred_new\n",
        "\n"
      ],
      "metadata": {
        "colab": {
          "base_uri": "https://localhost:8080/"
        },
        "id": "RsJ-8EMbw99H",
        "outputId": "df2f7045-2d08-4b6c-fad0-bc28a2e4212f"
      },
      "execution_count": null,
      "outputs": [
        {
          "output_type": "execute_result",
          "data": {
            "text/plain": [
              "[49]"
            ]
          },
          "metadata": {},
          "execution_count": 16
        }
      ]
    },
    {
      "cell_type": "markdown",
      "source": [
        "          array([1])"
      ],
      "metadata": {
        "id": "-XtOrSPCxPgm"
      }
    },
    {
      "cell_type": "code",
      "source": [
        "[50]# lr.predict_proba{X_new}\n"
      ],
      "metadata": {
        "colab": {
          "base_uri": "https://localhost:8080/"
        },
        "id": "dbIzi0VDxk59",
        "outputId": "40f06de0-6d68-4681-f4e5-69e644e87e2f"
      },
      "execution_count": null,
      "outputs": [
        {
          "output_type": "execute_result",
          "data": {
            "text/plain": [
              "[50]"
            ]
          },
          "metadata": {},
          "execution_count": 17
        }
      ]
    },
    {
      "cell_type": "markdown",
      "source": [
        "        array{[[0.49714991, 0.50285009]]}"
      ],
      "metadata": {
        "id": "OQtO4ZB0zDNO"
      }
    }
  ]
}